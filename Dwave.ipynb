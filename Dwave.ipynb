{
 "cells": [
  {
   "cell_type": "code",
   "execution_count": 1,
   "metadata": {},
   "outputs": [],
   "source": [
    "from QuantumRv2 import mclp as mp\n",
    "import numpy as np\n",
    "import dimod\n",
    "from dimod import BinaryQuadraticModel\n",
    "import pyqubo\n",
    "from dwave.system import DWaveSampler, EmbeddingComposite"
   ]
  },
  {
   "cell_type": "code",
   "execution_count": 16,
   "metadata": {},
   "outputs": [],
   "source": [
    "sampler = EmbeddingComposite(DWaveSampler())"
   ]
  },
  {
   "cell_type": "code",
   "execution_count": 25,
   "metadata": {},
   "outputs": [],
   "source": [
    "# Annealer variables    \n",
    "variables=open(\"1_MCLP1_un_c_3x3-2/Anneal_var.txt\")\n",
    "var_Quad=str(variables.readlines())\n",
    "var_Quad=var_Quad[2:-2]\n",
    "exec(f\"list_var={var_Quad}\")\n",
    "#list_var={var_Quad}\n",
    "#self.annealVarList=self.list_var"
   ]
  },
  {
   "cell_type": "code",
   "execution_count": 33,
   "metadata": {},
   "outputs": [],
   "source": [
    "for i in list_var: \n",
    "    a=str(i)\n",
    "    t=a+'= pyqubo.Binary('+str('\"'+a+'\"')+')'\n",
    "    #t=a+'= dimod.Spin('+str('\"'+a+'\"')+')'\n",
    "    #print(t)\n",
    "    exec(t)"
   ]
  },
  {
   "cell_type": "code",
   "execution_count": 6,
   "metadata": {},
   "outputs": [],
   "source": [
    "# Read de quadratic file\n",
    "archivo=open(\"1_MCLP1_un_c_3x3-2/Anneal_quad.txt\")"
   ]
  },
  {
   "cell_type": "code",
   "execution_count": 7,
   "metadata": {},
   "outputs": [],
   "source": [
    "annealEquation=str(archivo.readlines())\n",
    "annealEquation=annealEquation[2:-2]"
   ]
  },
  {
   "cell_type": "code",
   "execution_count": 42,
   "metadata": {},
   "outputs": [],
   "source": [
    "#annealEquation"
   ]
  },
  {
   "cell_type": "code",
   "execution_count": 36,
   "metadata": {},
   "outputs": [],
   "source": [
    "# Creates qubo equation\n",
    "instruccion= f'H = {annealEquation}'\n",
    "exec(instruccion)"
   ]
  },
  {
   "cell_type": "code",
   "execution_count": 37,
   "metadata": {},
   "outputs": [],
   "source": [
    "modelAnn = H.compile()"
   ]
  },
  {
   "cell_type": "code",
   "execution_count": 38,
   "metadata": {},
   "outputs": [],
   "source": [
    "bqm = modelAnn.to_bqm()"
   ]
  },
  {
   "cell_type": "code",
   "execution_count": 39,
   "metadata": {},
   "outputs": [],
   "source": [
    "sampler_exact = dimod.ExactSolver()\n",
    "sampleset = sampler_exact.sample(bqm)"
   ]
  },
  {
   "cell_type": "code",
   "execution_count": 43,
   "metadata": {},
   "outputs": [],
   "source": [
    "#print(sampleset)"
   ]
  },
  {
   "cell_type": "code",
   "execution_count": 41,
   "metadata": {},
   "outputs": [
    {
     "name": "stdout",
     "output_type": "stream",
     "text": [
      "   c1a_0_int_slack_0 c1a_1_int_slack_0 ... y_8 energy num_oc. chain_b.\n",
      "1                  0                 0 ...   1    6.0       1      0.0\n",
      "2                  0                 0 ...   1    6.0       1      0.0\n",
      "3                  0                 1 ...   1    6.0       2      0.0\n",
      "5                  0                 0 ...   1    8.0       3      0.0\n",
      "6                  0                 0 ...   1    8.0       1      0.0\n",
      "7                  0                 0 ...   1    8.0       1      0.0\n",
      "8                  0                 0 ...   1    8.0       1      0.0\n",
      "9                  0                 0 ...   1    8.0       1      0.0\n",
      "14                 0                 0 ...   1   10.0       1      0.0\n",
      "15                 0                 0 ...   1   10.0       1      0.0\n",
      "16                 0                 0 ...   1   10.0       1      0.0\n",
      "17                 0                 0 ...   1   10.0       1      0.0\n",
      "18                 0                 0 ...   1   10.0       2      0.0\n",
      "19                 0                 0 ...   1   10.0       3      0.0\n",
      "20                 0                 0 ...   1   10.0       1      0.0\n",
      "21                 0                 0 ...   1   10.0       2      0.0\n",
      "22                 0                 0 ...   1   10.0       1      0.0\n",
      "25                 0                 0 ...   1   12.0       1      0.0\n",
      "26                 1                 0 ...   1   12.0       1      0.0\n",
      "27                 0                 0 ...   1   12.0       1      0.0\n",
      "28                 0                 0 ...   1   12.0       1      0.0\n",
      "29                 0                 0 ...   1   12.0       1      0.0\n",
      "10                 0                 1 ...   1   13.0       1 0.047619\n",
      "31                 0                 0 ...   1   13.0       4      0.0\n",
      "32                 0                 1 ...   1   13.0       1      0.0\n",
      "34                 0                 0 ...   1   14.0       1      0.0\n",
      "35                 0                 0 ...   1   14.0       1      0.0\n",
      "36                 0                 0 ...   1   14.0       1      0.0\n",
      "23                 0                 1 ...   1   15.0       1 0.047619\n",
      "24                 0                 1 ...   1   15.0       2 0.047619\n",
      "37                 0                 1 ...   1   15.0       1      0.0\n",
      "38                 0                 1 ...   1   15.0       1      0.0\n",
      "39                 0                 0 ...   1   15.0       1      0.0\n",
      "40                 0                 0 ...   1   15.0       1      0.0\n",
      "41                 0                 0 ...   1   15.0       1      0.0\n",
      "42                 1                 0 ...   1   16.0       2      0.0\n",
      "43                 0                 0 ...   1   16.0       1      0.0\n",
      "44                 0                 0 ...   1   16.0       1      0.0\n",
      "30                 0                 1 ...   1   17.0       1 0.047619\n",
      "45                 0                 0 ...   1   17.0       1      0.0\n",
      "46                 0                 0 ...   1   17.0       1      0.0\n",
      "47                 0                 0 ...   1   17.0       2      0.0\n",
      "48                 0                 0 ...   1   19.0       1      0.0\n",
      "49                 1                 0 ...   1   19.0       1      0.0\n",
      "50                 1                 1 ...   1   19.0       1      0.0\n",
      "51                 0                 0 ...   1   19.0       1      0.0\n",
      "52                 0                 0 ...   1   19.0       1      0.0\n",
      "53                 1                 1 ...   1   21.0       1      0.0\n",
      "54                 0                 1 ...   1   28.0       1      0.0\n",
      "55                 0                 0 ...   1   30.0       1      0.0\n",
      "57                 0                 0 ...   0   31.0       1      0.0\n",
      "59                 0                 0 ...   1   32.0       1      0.0\n",
      "60                 0                 1 ...   1   32.0       1      0.0\n",
      "61                 0                 0 ...   1   32.0       1      0.0\n",
      "62                 0                 0 ...   0   33.0       1      0.0\n",
      "63                 0                 1 ...   1   33.0       1      0.0\n",
      "65                 0                 0 ...   1   34.0       1      0.0\n",
      "66                 0                 0 ...   1   34.0       1      0.0\n",
      "67                 0                 0 ...   1   34.0       1      0.0\n",
      "56                 0                 1 ...   1   35.0       1 0.047619\n",
      "58                 1                 0 ...   1   36.0       1 0.047619\n",
      "70                 0                 0 ...   1   36.0       1      0.0\n",
      "71                 0                 0 ...   0   37.0       1      0.0\n",
      "72                 0                 0 ...   1   37.0       1      0.0\n",
      "73                 1                 1 ...   1   37.0       1      0.0\n",
      "74                 0                 1 ...   1   37.0       1      0.0\n",
      "75                 1                 0 ...   1   38.0       1      0.0\n",
      "76                 0                 1 ...   0   38.0       1      0.0\n",
      "68                 0                 0 ...   1   39.0       1 0.047619\n",
      "69                 1                 0 ...   1   40.0       1 0.047619\n",
      "77                 0                 0 ...   1   40.0       1      0.0\n",
      "78                 1                 0 ...   1   42.0       1      0.0\n",
      "79                 0                 0 ...   0   42.0       1      0.0\n",
      "80                 1                 1 ...   1   43.0       1      0.0\n",
      "81                 1                 1 ...   1   43.0       1      0.0\n",
      "82                 0                 0 ...   1   43.0       1      0.0\n",
      "83                 0                 1 ...   1   56.0       1      0.0\n",
      "84                 0                 0 ...   0   57.0       1      0.0\n",
      "0                  1                 0 ...   1   58.0       1 0.047619\n",
      "33                 1                 0 ...   1   58.0       1 0.095238\n",
      "4                  1                 0 ...   1   60.0       1 0.047619\n",
      "11                 1                 0 ...   1   62.0       1 0.047619\n",
      "12                 1                 0 ...   1   62.0       1 0.047619\n",
      "13                 1                 0 ...   1   62.0       1 0.047619\n",
      "85                 0                 0 ...   1   78.0       1      0.0\n",
      "86                 1                 1 ...   0   85.0       1      0.0\n",
      "64                 1                 0 ...   1   86.0       1 0.047619\n",
      "['BINARY', 87 rows, 100 samples, 21 variables]\n"
     ]
    }
   ],
   "source": [
    "from dwave.system import DWaveSampler, EmbeddingComposite\n",
    "sampler = EmbeddingComposite(DWaveSampler())\n",
    "sampleset = sampler.sample(bqm, num_reads=100)\n",
    "print(sampleset)"
   ]
  }
 ],
 "metadata": {
  "kernelspec": {
   "display_name": "quantum",
   "language": "python",
   "name": "quantum"
  },
  "language_info": {
   "codemirror_mode": {
    "name": "ipython",
    "version": 3
   },
   "file_extension": ".py",
   "mimetype": "text/x-python",
   "name": "python",
   "nbconvert_exporter": "python",
   "pygments_lexer": "ipython3",
   "version": "3.7.0"
  }
 },
 "nbformat": 4,
 "nbformat_minor": 2
}
